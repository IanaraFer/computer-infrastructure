{
 "cells": [
  {
   "cell_type": "markdown",
   "metadata": {},
   "source": [
    "# Task 8 \n",
    "### Explantion about task 1 to 7"
   ]
  },
  {
   "cell_type": "markdown",
   "metadata": {},
   "source": [
    "All the task were realizated at the terminal of my computer.\n",
    "I had prefer to use the"
   ]
  },
  {
   "cell_type": "markdown",
   "metadata": {},
   "source": []
  },
  {
   "cell_type": "markdown",
   "metadata": {},
   "source": []
  },
  {
   "cell_type": "markdown",
   "metadata": {},
   "source": [
    ":\\Users\\Administrator\\Desktop\\computer-infrastructure\\computer-infrastructure-1\\data\\timestamps>for /l %x in (1, 1, 10) do @echo %date% %time% >> now.txt\n",
    "\n",
    "C:\\Users\\Administrator\\Desktop\\computer-infrastructure\\computer-infrastructure-1\\data\\timestamps>powershell -Command \"Get-Date -Format 'yyyyMMdd_HHmmss'\" >> formatted.txt\n",
    "\n",
    "C:\\Users\\Administrator\\Desktop\\computer-infrastructure\\computer-infrastructure-1\\data\\timestamps>\n",
    "C:\\Users\\Administrator\\Desktop\\computer-infrastructure\\computer-infrastructure-1\\data\\timestamps>date /?\n",
    "Displays or sets the date.\n",
    "\n",
    "DATE [/T | date]\n",
    "\n",
    "Type DATE without parameters to display the current date setting and\n",
    "a prompt for a new one.  Press ENTER to keep the same date.\n",
    "\n",
    "If Command Extensions are enabled the DATE command supports"
   ]
  },
  {
   "cell_type": "markdown",
   "metadata": {},
   "source": []
  },
  {
   "cell_type": "markdown",
   "metadata": {},
   "source": [
    "C:\\Users\\Administrator\\Desktop\\computer-infrastructure\\computer-infrastructure-1\\data\\timestamps>powershell -Command \"Get-Date -Format 'Your_Format_String'\"\n",
    "Your_3or48aA_SArinA.D.\n",
    "\n",
    "C:\\Users\\Administrator\\Desktop\\computer-infrastructure\\computer-infrastructure-1\\data\\timestamps>cd C:\\Users\\Administrator\\Desktop\\computer-infrastructure\\computer-infrastructure-1\\data\\timestamps\n",
    "\n",
    "C:\\Users\\Administrator\\Desktop\\computer-infrastructure\\computer-infrastructure-1\\data\\timestamps>powershell -Command \"New-Item -ItemType File -Name ('{0:yyyyMMdd_HHmmss}.txt' -f (Get-Date))\"\n",
    "\n",
    "\n",
    "    Directory: C:\\Users\\Administrator\\Desktop\\computer-infrastructure\\computer-infrastr\n",
    "    ucture-1\\data\\timestamps\n",
    "\n",
    "\n",
    "Mode                 LastWriteTime         Length Name\n",
    "----                 -------------         ------ ----\n",
    "-a----        14/11/2024     10:52              0 20241114_105253.txt\n",
    "\n",
    "\n",
    "\n",
    "C:\\Users\\Administrator\\Desktop\\computer-infrastructure\\computer-infrastructure-1\\data\\timestamps>\n"
   ]
  },
  {
   "cell_type": "markdown",
   "metadata": {},
   "source": []
  },
  {
   "cell_type": "markdown",
   "metadata": {},
   "source": [
    "\n",
    "C:\\Users\\Administrator\\Desktop\\computer-infrastructure\\computer-infrastructure-1\\data>mkdir weather\n",
    "\n",
    "C:\\Users\\Administrator\\Desktop\\computer-infrastructure\\computer-infrastructure-1\\data>cd weather\n",
    "\n",
    "C:\\Users\\Administrator\\Desktop\\computer-infrastructure\\computer-infrastructure-1\\data\\weather>curl -o weather.json https://prodapi.metweb.ie/observations/athenry/today\n",
    "  % Total    % Received % Xferd  Average Speed   Time    Time     Time  Current\n",
    "                                 Dload  Upload   Total   Spent    Left  Speed\n",
    "100  3348    0  3348    0     0   2391      0 --:--:--  0:00:01 --:--:--  2394\n",
    "\n",
    "C:\\Users\\Administrator\\Desktop\\computer-infrastructure\\computer-infrastructure-1\\data\\weather>\n"
   ]
  },
  {
   "cell_type": "markdown",
   "metadata": {},
   "source": []
  },
  {
   "cell_type": "markdown",
   "metadata": {},
   "source": [
    "C:\\Users\\Administrator\\Desktop\\computer-infrastructure\\computer-infrastructure-1\\data\\weather>curl -o weather.json https://prodapi.metweb.ie/observations/athenry/today\n",
    "  % Total    % Received % Xferd  Average Speed   Time    Time     Time  Current\n",
    "                                 Dload  Upload   Total   Spent    Left  Speed\n",
    "100  3348    0  3348    0     0   2391      0 --:--:--  0:00:01 --:--:--  2394\n",
    "\n",
    "C:\\Users\\Administrator\\Desktop\\computer-infrastructure\\computer-infrastructure-1\\data\\weather>powershell -Command \"$timestamp = (Get-Date -Format 'yyyyMMdd_HHmmss'); Invoke-WebRequest -Uri 'https://prodapi.metweb.ie/observations/athenry/today' -OutFile ($timestamp + '.json')\"\n"
   ]
  },
  {
   "cell_type": "markdown",
   "metadata": {},
   "source": []
  },
  {
   "cell_type": "markdown",
   "metadata": {},
   "source": []
  }
 ],
 "metadata": {
  "language_info": {
   "name": "python"
  }
 },
 "nbformat": 4,
 "nbformat_minor": 2
}
